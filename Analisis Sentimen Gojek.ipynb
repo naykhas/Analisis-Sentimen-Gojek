{
  "nbformat": 4,
  "nbformat_minor": 0,
  "metadata": {
    "colab": {
      "provenance": [],
      "collapsed_sections": [
        "kIZAIR8G8HBt",
        "IKrhxIKkErdW",
        "xhimg7tMSpkm",
        "EOC1OwQfTg5C",
        "6SIMrWBMT5TJ",
        "EoC7Lm3uU3py",
        "Cvog8JJTVyV4",
        "T43LbKU9WlKo",
        "JxP45BirXxQm",
        "IkWUOGmlfwvm",
        "BXHle28XgUt1",
        "wmz_e26zgwqm",
        "90HOBmVfhGwr",
        "yri3acFdkR8D",
        "tH39YZRXk9_v"
      ]
    },
    "kernelspec": {
      "name": "python3",
      "display_name": "Python 3"
    },
    "language_info": {
      "name": "python"
    }
  },
  "cells": [
    {
      "cell_type": "markdown",
      "source": [
        "## Perbandingan Metode Logistic Regression, MultinomialNB, SVM, dan K-NN pada Analisis Sentimen Ulasan Aplikasi Gojek di Google Play Store\n",
        "\n",
        "---\n",
        "\n"
      ],
      "metadata": {
        "id": "kIZAIR8G8HBt"
      }
    },
    {
      "cell_type": "markdown",
      "source": [
        "KELOMPOK 1 Jatayu Pirates\n",
        "\n",
        "ANGGOTA KELOMPOK 1:\n",
        "\n",
        "1. Audenza Maulana\n",
        "2. Ardhan Dwinata\n",
        "3. Asghafi Mubarrak\n",
        "4. Inayah Khasnaputri Afifah\n",
        "5. Kiagus Rachmat Fauzan\n"
      ],
      "metadata": {
        "id": "LTNHrrJQ8_Lk"
      }
    },
    {
      "cell_type": "markdown",
      "source": [
        "Analisis sentimen merupakan klasifikasi teks yang bertujuan untuk mengklasifikasikan teks (dokumen) yang berisi opini sebagai opini yang positif, negatif, atau netral. Dataset yang akan kami gunakan adalah ulasan aplikasi Gojek di Google Play Store. Untuk mendapatkan dataset tersebut, kami melakukan proses Data Acquisition terlebih dahulu, menggunakan library google-play-scraper."
      ],
      "metadata": {
        "id": "Y0xyqfy69lRq"
      }
    },
    {
      "cell_type": "markdown",
      "source": [
        "## Data Acquisition"
      ],
      "metadata": {
        "id": "IKrhxIKkErdW"
      }
    },
    {
      "cell_type": "code",
      "execution_count": null,
      "metadata": {
        "id": "_Cb-wooM5yOc"
      },
      "outputs": [],
      "source": [
        "!pip install google-play-scraper"
      ]
    },
    {
      "cell_type": "code",
      "source": [
        "from google_play_scraper import app\n",
        "import pandas as pd\n",
        "import numpy as np"
      ],
      "metadata": {
        "id": "BLURNI15DfdO"
      },
      "execution_count": null,
      "outputs": []
    },
    {
      "cell_type": "markdown",
      "source": [
        "Bahasa ulasan yang kami gunakan adalah Bahasa Indonesia (id), yang diambil dari country Indonesia (id). Kami melakukan Sort.MOST_RELEVANT agar ulasan yang didapatkan lebih aktual dan faktual."
      ],
      "metadata": {
        "id": "pkBaCJ7QFmoq"
      }
    },
    {
      "cell_type": "code",
      "source": [
        "from google_play_scraper import Sort, reviews_all\n",
        "\n",
        "\n",
        "id_reviews = reviews_all(\n",
        "    'com.gojek.app',\n",
        "    sleep_milliseconds=0, # defaults to 0\n",
        "    lang='id', # defaults to id\n",
        "    country='id', # defaults to id\n",
        "sort=Sort.MOST_RELEVANT, # defaults to Sort.MOST_RELEVANT\n",
        ")"
      ],
      "metadata": {
        "id": "wwNqytKRDkXG"
      },
      "execution_count": null,
      "outputs": []
    },
    {
      "cell_type": "code",
      "source": [
        "df_gojek = pd.DataFrame(np.array(id_reviews),columns=['review'])\n",
        "df_gojek = df_gojek.join(pd.DataFrame(df_gojek.pop('review').tolist()))\n",
        "df_gojek.head()"
      ],
      "metadata": {
        "id": "hPI_bKuHEtn9"
      },
      "execution_count": null,
      "outputs": []
    },
    {
      "cell_type": "markdown",
      "source": [
        "Menyimpan hasil scraping ke dalam bentuk .csv\n",
        "[Dataset gojek_review](https://drive.google.com/file/d/1BcsoWTiD-6oV7ETo1N3IaI8qtKwZTzFc/view?usp=share_link)"
      ],
      "metadata": {
        "id": "unLOWF9PFnsM"
      }
    },
    {
      "cell_type": "code",
      "source": [
        "df_gojek.to_csv(\"gojek_review.csv\")"
      ],
      "metadata": {
        "id": "IG3LHWJZE0-0"
      },
      "execution_count": null,
      "outputs": []
    },
    {
      "cell_type": "markdown",
      "source": [
        "## Data Exploration"
      ],
      "metadata": {
        "id": "B57AJGEeFykC"
      }
    },
    {
      "cell_type": "markdown",
      "source": [
        "Mount Google Drive"
      ],
      "metadata": {
        "id": "uUQziyYzGRpy"
      }
    },
    {
      "cell_type": "code",
      "source": [
        "from google.colab import drive\n",
        "drive.mount('/content/drive')"
      ],
      "metadata": {
        "id": "cxi30KYgGOHy",
        "colab": {
          "base_uri": "https://localhost:8080/"
        },
        "outputId": "afd9a56c-699c-472c-9321-7d4cb1cd053b"
      },
      "execution_count": null,
      "outputs": [
        {
          "output_type": "stream",
          "name": "stdout",
          "text": [
            "Mounted at /content/drive\n"
          ]
        }
      ]
    },
    {
      "cell_type": "markdown",
      "source": [
        "### Library yang dibutuhkan"
      ],
      "metadata": {
        "id": "GQUGhS_WSjcl"
      }
    },
    {
      "cell_type": "code",
      "source": [
        "#Import Library\n",
        "#import path directory\n",
        "import os\n",
        "#import library pengolah csv\n",
        "import csv\n",
        "\n",
        "#untuk visualisasi\n",
        "import pandas as pd\n",
        "import seaborn as sns\n",
        "import pandas as pd\n",
        "pd.options.mode.chained_assignment = None\n",
        "import matplotlib.pyplot as plt\n",
        "\n",
        "# tokenize dan stopwords dari nltk\n",
        "import re\n",
        "import string\n",
        "import nltk\n",
        "nltk.download('punkt')\n",
        "nltk.download('stopwords')\n",
        "from nltk.tokenize import word_tokenize\n",
        "from nltk.corpus import stopwords\n",
        "\n",
        "# library sastrawi\n",
        "!pip install sastrawi\n",
        "from Sastrawi.Stemmer.StemmerFactory import StemmerFactory\n",
        "from Sastrawi.StopWordRemover.StopWordRemoverFactory import StopWordRemoverFactory\n",
        "factory = StemmerFactory()\n",
        "stemmer = factory.create_stemmer()"
      ],
      "metadata": {
        "id": "osqkmSW5GWCZ",
        "colab": {
          "base_uri": "https://localhost:8080/"
        },
        "outputId": "bb58c134-b809-4215-e5a1-ff93ea51cb77"
      },
      "execution_count": null,
      "outputs": [
        {
          "output_type": "stream",
          "name": "stderr",
          "text": [
            "[nltk_data] Downloading package punkt to /root/nltk_data...\n",
            "[nltk_data]   Unzipping tokenizers/punkt.zip.\n",
            "[nltk_data] Downloading package stopwords to /root/nltk_data...\n",
            "[nltk_data]   Unzipping corpora/stopwords.zip.\n"
          ]
        },
        {
          "output_type": "stream",
          "name": "stdout",
          "text": [
            "Looking in indexes: https://pypi.org/simple, https://us-python.pkg.dev/colab-wheels/public/simple/\n",
            "Collecting sastrawi\n",
            "  Downloading Sastrawi-1.0.1-py2.py3-none-any.whl (209 kB)\n",
            "\u001b[?25l\r\u001b[K     |█▋                              | 10 kB 15.9 MB/s eta 0:00:01\r\u001b[K     |███▏                            | 20 kB 6.4 MB/s eta 0:00:01\r\u001b[K     |████▊                           | 30 kB 9.1 MB/s eta 0:00:01\r\u001b[K     |██████▎                         | 40 kB 4.3 MB/s eta 0:00:01\r\u001b[K     |███████▉                        | 51 kB 4.3 MB/s eta 0:00:01\r\u001b[K     |█████████▍                      | 61 kB 5.1 MB/s eta 0:00:01\r\u001b[K     |███████████                     | 71 kB 5.7 MB/s eta 0:00:01\r\u001b[K     |████████████▌                   | 81 kB 5.5 MB/s eta 0:00:01\r\u001b[K     |██████████████                  | 92 kB 6.1 MB/s eta 0:00:01\r\u001b[K     |███████████████▋                | 102 kB 4.9 MB/s eta 0:00:01\r\u001b[K     |█████████████████▏              | 112 kB 4.9 MB/s eta 0:00:01\r\u001b[K     |██████████████████▊             | 122 kB 4.9 MB/s eta 0:00:01\r\u001b[K     |████████████████████▎           | 133 kB 4.9 MB/s eta 0:00:01\r\u001b[K     |█████████████████████▉          | 143 kB 4.9 MB/s eta 0:00:01\r\u001b[K     |███████████████████████▍        | 153 kB 4.9 MB/s eta 0:00:01\r\u001b[K     |█████████████████████████       | 163 kB 4.9 MB/s eta 0:00:01\r\u001b[K     |██████████████████████████▋     | 174 kB 4.9 MB/s eta 0:00:01\r\u001b[K     |████████████████████████████▏   | 184 kB 4.9 MB/s eta 0:00:01\r\u001b[K     |█████████████████████████████▊  | 194 kB 4.9 MB/s eta 0:00:01\r\u001b[K     |███████████████████████████████▎| 204 kB 4.9 MB/s eta 0:00:01\r\u001b[K     |████████████████████████████████| 209 kB 4.9 MB/s \n",
            "\u001b[?25hInstalling collected packages: sastrawi\n",
            "Successfully installed sastrawi-1.0.1\n"
          ]
        }
      ]
    },
    {
      "cell_type": "code",
      "source": [
        "# membaca file dengan dataframe\n",
        "#with open(path, 'rb') as f: contens = f.read()\n",
        "df = pd.read_csv('/content/drive/MyDrive/Colab Notebooks/Bahan untuk PA/gojek_review.csv') # ini sesuai path file-nya review gojek\n",
        "df"
      ],
      "metadata": {
        "id": "qUBIkXFeGoiR"
      },
      "execution_count": null,
      "outputs": []
    },
    {
      "cell_type": "code",
      "source": [
        "# mengunci data tweet dari baris ke 0 sampai 2000 dan semua kolom\n",
        "gojek = df.iloc[0:2000,:] # variabel bebas\n",
        "gojek"
      ],
      "metadata": {
        "id": "K2OoP630RYpr"
      },
      "execution_count": null,
      "outputs": []
    },
    {
      "cell_type": "code",
      "source": [
        "import nltk\n",
        "nltk.download('punkt')\n",
        "nltk.download('stopwords')"
      ],
      "metadata": {
        "id": "fM6SA27ySELE",
        "colab": {
          "base_uri": "https://localhost:8080/"
        },
        "outputId": "e542c290-1540-4017-eda0-886aca97b8a0"
      },
      "execution_count": null,
      "outputs": [
        {
          "output_type": "stream",
          "name": "stderr",
          "text": [
            "[nltk_data] Downloading package punkt to /root/nltk_data...\n",
            "[nltk_data]   Package punkt is already up-to-date!\n",
            "[nltk_data] Downloading package stopwords to /root/nltk_data...\n",
            "[nltk_data]   Package stopwords is already up-to-date!\n"
          ]
        },
        {
          "output_type": "execute_result",
          "data": {
            "text/plain": [
              "True"
            ]
          },
          "metadata": {},
          "execution_count": 29
        }
      ]
    },
    {
      "cell_type": "markdown",
      "source": [
        "### Function cleaning (case folding, tokenizing, filtering, dan stemming)"
      ],
      "metadata": {
        "id": "NePR7JMISQdY"
      }
    },
    {
      "cell_type": "code",
      "source": [
        "def cleaningText(text):\n",
        "    text = re.sub(r'#[A-Za-z0-9]+', '', text) # remove hashtag\n",
        "    text = re.sub(r'[0-9]+', '', text) # remove numbers\n",
        "    text = re.sub(r'[^\\w]', ' ', text) # remove special characters\n",
        "\n",
        "    text = text.replace('\\n', ' ') # replace new line into space\n",
        "    text = text.translate(str.maketrans('', '', string.punctuation)) # remove all punctuations\n",
        "    text = text.strip(' ') # remove characters space from both left and right text\n",
        "    return text\n",
        "\n",
        "def casefoldingText(text): # Converting all the characters in a text into lower case\n",
        "    text = text.lower()\n",
        "    return text\n",
        "\n",
        "def tokenizingText(text): # Tokenizing or splitting a string, text into a list of tokens\n",
        "    text = word_tokenize(text)\n",
        "    return text\n",
        "\n",
        "def filteringText(text): # Remove stopwors in a text\n",
        "    listStopwords = set(stopwords.words('indonesian'))\n",
        "    filtered = []\n",
        "    for txt in text:\n",
        "        if txt not in listStopwords:\n",
        "            filtered.append(txt)\n",
        "    text = filtered\n",
        "    return text\n",
        "\n",
        "def stemmingText(text): # Reducing a word to its word stem that affixes to suffixes and prefixes or to the roots of words\n",
        "    factory = StemmerFactory()\n",
        "    stemmer = factory.create_stemmer()\n",
        "    text = [stemmer.stem(word) for word in text]\n",
        "    return text\n",
        "\n",
        "def toSentence(list_words): # Convert list of words into sentence\n",
        "    sentence = ' '.join(word for word in list_words)\n",
        "    return sentence"
      ],
      "metadata": {
        "id": "D6h1juSXSLCZ"
      },
      "execution_count": null,
      "outputs": []
    },
    {
      "cell_type": "code",
      "source": [
        "# isitweet dibersihkan, kemudian dilabeli ulang menjadi text_clean\n",
        "gojek['content_clean'] = gojek['content'].apply(cleaningText)\n",
        "gojek['content_clean'] = gojek['content'].apply(casefoldingText)\n",
        "gojek.drop(['content'], axis = 1, inplace = True)\n",
        "\n",
        "# hasil preprocess text_clean dilabeli dengan text_preprocessed\n",
        "# tokenizing, filtering, stemming\n",
        "gojek['content_preprocessed'] = gojek['content_clean'].apply(tokenizingText)\n",
        "gojek['content_preprocessed'] = gojek['content_preprocessed'].apply(filteringText)\n",
        "gojek['content_preprocessed'] = gojek['content_preprocessed'].apply(stemmingText)\n",
        "\n",
        "# menghapus/drop spam tweets\n",
        "gojek.drop_duplicates(subset = 'content_clean', inplace = True)"
      ],
      "metadata": {
        "id": "LlwsL8VZSYBW"
      },
      "execution_count": null,
      "outputs": []
    },
    {
      "cell_type": "code",
      "source": [
        "# menampilkan hasil preprocessing\n",
        "gojek"
      ],
      "metadata": {
        "id": "4_9cm7xQSbZH"
      },
      "execution_count": null,
      "outputs": []
    },
    {
      "cell_type": "code",
      "source": [
        "gojek.count()"
      ],
      "metadata": {
        "id": "HLhj1VqRSfMg"
      },
      "execution_count": null,
      "outputs": []
    },
    {
      "cell_type": "markdown",
      "source": [
        "### Labeling Lexicon dari Github dan telah kami tambahkan kata-katanya.\n",
        "[Link Github](https://www.google.com/url?sa=t&rct=j&q=&esrc=s&source=web&cd=&cad=rja&uact=8&ved=2ahUKEwiV3o-XluL6AhUNyXMBHfSsCLMQFnoECBYQAQ&url=https%3A%2F%2Fgithub.com%2Ffajri91%2FInSet&usg=AOvVaw1RvcW3-osV6w9bCMKN7tUa&cshid=1665835016557715)\n",
        "\n",
        "[Negatif](https://drive.google.com/file/d/1UBLrxmfFTEg1t9rHw6v-M5pJVRDWuyFH/view?usp=sharing)\n",
        "\n",
        "[Positif](https://drive.google.com/file/d/1JqpJ12JqiOMOJ5R0Gg4rz3Xbqe3j2-Om/view?usp=sharing)"
      ],
      "metadata": {
        "id": "xhimg7tMSpkm"
      }
    },
    {
      "cell_type": "code",
      "source": [
        "# memberi label data berdasarkan sifatnya\n",
        "# load lexicon negatif dan positif\n",
        "lexicon_positive = dict()\n",
        "import csv\n",
        "with open('/content/drive/MyDrive/Colab Notebooks/positive.csv', 'r') as csvfile:\n",
        "    reader = csv.reader(csvfile, delimiter=',')\n",
        "    for row in reader:\n",
        "        lexicon_positive[row[0]] = int(row[1])\n",
        "\n",
        "lexicon_negative = dict()\n",
        "import csv\n",
        "with open('/content/drive/MyDrive/Colab Notebooks/negative.csv', 'r') as csvfile:\n",
        "    reader = csv.reader(csvfile, delimiter=',')\n",
        "    for row in reader:\n",
        "        lexicon_negative[row[0]] = int(row[1])\n",
        "\n",
        "# Function untuk mendeklarasikan polaritas negatif dan positif dari dataset\n",
        "def sentiment_analysis_lexicon_indonesia(text):\n",
        "    #for word in text:\n",
        "    score = 0\n",
        "    for word in text:\n",
        "        if (word in lexicon_positive):\n",
        "            score = score + lexicon_positive[word]\n",
        "    for word in text:\n",
        "        if (word in lexicon_negative):\n",
        "            score = score + lexicon_negative[word]\n",
        "    polarity=''\n",
        "    if (score > 0):\n",
        "        polarity = 'positive'\n",
        "    elif (score < 0):\n",
        "        polarity = 'negative'\n",
        "    else:\n",
        "        polarity = 'neutral'\n",
        "    return score, polarity"
      ],
      "metadata": {
        "id": "7Kzy61utShoH"
      },
      "execution_count": null,
      "outputs": []
    },
    {
      "cell_type": "code",
      "source": [
        "# Polarisasi\n",
        "results = gojek['content_preprocessed'].apply(sentiment_analysis_lexicon_indonesia)\n",
        "results = list(zip(*results))\n",
        "gojek['polarity_score'] = results[0]\n",
        "gojek['polarity'] = results[1]\n",
        "print(gojek['polarity'].value_counts())"
      ],
      "metadata": {
        "id": "a_cEUoIJTK1M"
      },
      "execution_count": null,
      "outputs": []
    },
    {
      "cell_type": "markdown",
      "source": [
        "### Membuat pie chart dari hasil labeling"
      ],
      "metadata": {
        "id": "EOC1OwQfTg5C"
      }
    },
    {
      "cell_type": "code",
      "source": [
        "fig, ax = plt.subplots(figsize = (6, 6))\n",
        "sizes = [count for count in gojek['polarity'].value_counts()]\n",
        "labels = list(gojek['polarity'].value_counts().index)\n",
        "explode = (0.1, 0, 0)\n",
        "ax.pie(x = sizes, labels = labels, autopct = '%1.1f%%', explode = explode, textprops={'fontsize': 14})\n",
        "ax.set_title(f'Polaritas Sentiment Terhadap Aplikasi Gojek \\n (total = {len(gojek.index)} ulasan)', fontsize = 16, pad = 20)\n",
        "plt.show()"
      ],
      "metadata": {
        "id": "oz8kcxKLTbXN"
      },
      "execution_count": null,
      "outputs": []
    },
    {
      "cell_type": "markdown",
      "source": [
        "### Mengelompokkan sentimen positif dan negatif menjadi 1, kemudian save ke dalam csv  menggunakan concate"
      ],
      "metadata": {
        "id": "6SIMrWBMT5TJ"
      }
    },
    {
      "cell_type": "code",
      "source": [
        "# predict polarity positive\n",
        "pd.set_option('display.max_colwidth', 3000)\n",
        "positive_gojek = gojek[gojek['polarity'] == 'positive'] # ganti variabel\n",
        "positive_gojek = positive_gojek[['content_clean', 'polarity_score', 'polarity']].sort_values(by = 'polarity_score', ascending=False).reset_index(drop = True)\n",
        "positive_gojek.index += 1\n",
        "positive_gojek[0:10]"
      ],
      "metadata": {
        "id": "BLUdh7FOToFk"
      },
      "execution_count": null,
      "outputs": []
    },
    {
      "cell_type": "code",
      "source": [
        "# # save hasil prediction polarity positive ke csv jika perlu\n",
        "# positive_gojek.to_csv('/content/drive/MyDrive/Colab Notebooks/Bahan untuk PA/gejek_positive.csv') # hasil polaritas positif disimpen di csv. nama bebas\n",
        "# positive_gojek[0:]"
      ],
      "metadata": {
        "id": "BlXQWOYXTs9s"
      },
      "execution_count": null,
      "outputs": []
    },
    {
      "cell_type": "code",
      "source": [
        "# predict polarity negative\n",
        "pd.set_option('display.max_colwidth', 3000)\n",
        "negative_gojek = gojek[gojek['polarity'] == 'negative']\n",
        "negative_gojek = negative_gojek[['content_clean', 'polarity_score', 'polarity']].sort_values(by = 'polarity_score', ascending=True).reset_index(drop = True)\n",
        "negative_gojek.index += 1\n",
        "negative_gojek[0:10]"
      ],
      "metadata": {
        "id": "MNyJVmT8UAVx"
      },
      "execution_count": null,
      "outputs": []
    },
    {
      "cell_type": "code",
      "source": [
        "# # save hasil prediction polarity negative ke csv jika perlu\n",
        "# negative_gojek.to_csv('/content/drive/MyDrive/Colab Notebooks/Bahan untuk PA/gojek_negative.csv') # hasil polaritas positif disimpen di csv. nama bebas\n",
        "# negative_gojek[0:]"
      ],
      "metadata": {
        "id": "KZDVlYtIUD2T"
      },
      "execution_count": null,
      "outputs": []
    },
    {
      "cell_type": "code",
      "source": [
        "# menggabungkan hasil negative_tweets dan positive_tweets\n",
        "concate_data = pd.concat([negative_gojek,positive_gojek])\n",
        "concate_data.to_csv('/content/drive/MyDrive/Colab Notebooks/Bahan untuk PA/gojek fix.csv') # nama csv bebas\n",
        "concate_data"
      ],
      "metadata": {
        "id": "yK8wlP_cUFbL"
      },
      "execution_count": null,
      "outputs": []
    },
    {
      "cell_type": "markdown",
      "source": [
        "Link datasetnya: [gojek_fix.csv]([Positif](https://drive.google.com/file/d/1JqpJ12JqiOMOJ5R0Gg4rz3Xbqe3j2-Om/view?usp=sharing))"
      ],
      "metadata": {
        "id": "8z9D-kPzUhyn"
      }
    },
    {
      "cell_type": "markdown",
      "source": [
        "### Mengatur ulang atribut di dalam csv, kemudian menyimpannya ke dalam csv"
      ],
      "metadata": {
        "id": "EoC7Lm3uU3py"
      }
    },
    {
      "cell_type": "code",
      "source": [
        "# menagtur ulang atribut pada csv\n",
        "df = pd.read_csv('/content/drive/MyDrive/Colab Notebooks/Bahan untuk PA/gojek fix.csv')\n",
        "df_reorder = df[['polarity', 'content_clean', 'polarity_score']] # rearrange column here\n",
        "df_reorder.to_csv('/content/drive/MyDrive/Colab Notebooks/Bahan untuk PA/gojek_fix2.csv', index=False)"
      ],
      "metadata": {
        "id": "Z9c97nljU0sh"
      },
      "execution_count": null,
      "outputs": []
    },
    {
      "cell_type": "markdown",
      "source": [
        "## Modeling"
      ],
      "metadata": {
        "id": "XkuTk0y9VDo-"
      }
    },
    {
      "cell_type": "code",
      "source": [
        "# library yang dibutuhkan untuk modeling dan evaluation\n",
        "import numpy as np\n",
        "import pandas as pd\n",
        "import seaborn as sns\n",
        "import matplotlib.pyplot as plt\n",
        "import re\n",
        "from nltk.tokenize import word_tokenize"
      ],
      "metadata": {
        "id": "XFXC36LDVIyi"
      },
      "execution_count": null,
      "outputs": []
    },
    {
      "cell_type": "markdown",
      "source": [
        "### Dataset yang telah kami ubah positive menjadi 1, negative menjadi 0 secara manual\n",
        "[Link gojek_train_cleaner](https://drive.google.com/file/d/1taBa83hyKpNBSrKdCs9wkdGXZ8J4Rhu8/view?usp=share_link)"
      ],
      "metadata": {
        "id": "Cvog8JJTVyV4"
      }
    },
    {
      "cell_type": "markdown",
      "source": [
        "Hanya menggunakan atribut cleaner_content dan polarity"
      ],
      "metadata": {
        "id": "zKD1pRXmWPE4"
      }
    },
    {
      "cell_type": "code",
      "source": [
        "df = pd.read_csv('/content/drive/MyDrive/Colab Notebooks/Bahan untuk PA/gojek_train_cleaner.csv')\n",
        "df = df[['cleaner_content', 'polarity']]\n",
        "df.head()"
      ],
      "metadata": {
        "id": "rCbqnjv-VxqZ",
        "colab": {
          "base_uri": "https://localhost:8080/",
          "height": 206
        },
        "outputId": "24567c78-7504-4bb4-aa03-c71cc0ae5140"
      },
      "execution_count": null,
      "outputs": [
        {
          "output_type": "execute_result",
          "data": {
            "text/plain": [
              "                                     cleaner_content  polarity\n",
              "0  kecewa karna limit gopay later blokir bayar ta...         0\n",
              "1  bro minimal driver tuh bener dikit gw tau cost...         0\n",
              "2  parah ribet banget cancel  driver cancel order...         0\n",
              "3  aplikasi gojek beda go play gopay aplikasi goj...         0\n",
              "4  tiba2 order tolak terus location ga ketul tuli...         0"
            ],
            "text/html": [
              "\n",
              "  <div id=\"df-d7f45bfc-3642-45b4-894d-af3dc70b3d4f\">\n",
              "    <div class=\"colab-df-container\">\n",
              "      <div>\n",
              "<style scoped>\n",
              "    .dataframe tbody tr th:only-of-type {\n",
              "        vertical-align: middle;\n",
              "    }\n",
              "\n",
              "    .dataframe tbody tr th {\n",
              "        vertical-align: top;\n",
              "    }\n",
              "\n",
              "    .dataframe thead th {\n",
              "        text-align: right;\n",
              "    }\n",
              "</style>\n",
              "<table border=\"1\" class=\"dataframe\">\n",
              "  <thead>\n",
              "    <tr style=\"text-align: right;\">\n",
              "      <th></th>\n",
              "      <th>cleaner_content</th>\n",
              "      <th>polarity</th>\n",
              "    </tr>\n",
              "  </thead>\n",
              "  <tbody>\n",
              "    <tr>\n",
              "      <th>0</th>\n",
              "      <td>kecewa karna limit gopay later blokir bayar ta...</td>\n",
              "      <td>0</td>\n",
              "    </tr>\n",
              "    <tr>\n",
              "      <th>1</th>\n",
              "      <td>bro minimal driver tuh bener dikit gw tau cost...</td>\n",
              "      <td>0</td>\n",
              "    </tr>\n",
              "    <tr>\n",
              "      <th>2</th>\n",
              "      <td>parah ribet banget cancel  driver cancel order...</td>\n",
              "      <td>0</td>\n",
              "    </tr>\n",
              "    <tr>\n",
              "      <th>3</th>\n",
              "      <td>aplikasi gojek beda go play gopay aplikasi goj...</td>\n",
              "      <td>0</td>\n",
              "    </tr>\n",
              "    <tr>\n",
              "      <th>4</th>\n",
              "      <td>tiba2 order tolak terus location ga ketul tuli...</td>\n",
              "      <td>0</td>\n",
              "    </tr>\n",
              "  </tbody>\n",
              "</table>\n",
              "</div>\n",
              "      <button class=\"colab-df-convert\" onclick=\"convertToInteractive('df-d7f45bfc-3642-45b4-894d-af3dc70b3d4f')\"\n",
              "              title=\"Convert this dataframe to an interactive table.\"\n",
              "              style=\"display:none;\">\n",
              "        \n",
              "  <svg xmlns=\"http://www.w3.org/2000/svg\" height=\"24px\"viewBox=\"0 0 24 24\"\n",
              "       width=\"24px\">\n",
              "    <path d=\"M0 0h24v24H0V0z\" fill=\"none\"/>\n",
              "    <path d=\"M18.56 5.44l.94 2.06.94-2.06 2.06-.94-2.06-.94-.94-2.06-.94 2.06-2.06.94zm-11 1L8.5 8.5l.94-2.06 2.06-.94-2.06-.94L8.5 2.5l-.94 2.06-2.06.94zm10 10l.94 2.06.94-2.06 2.06-.94-2.06-.94-.94-2.06-.94 2.06-2.06.94z\"/><path d=\"M17.41 7.96l-1.37-1.37c-.4-.4-.92-.59-1.43-.59-.52 0-1.04.2-1.43.59L10.3 9.45l-7.72 7.72c-.78.78-.78 2.05 0 2.83L4 21.41c.39.39.9.59 1.41.59.51 0 1.02-.2 1.41-.59l7.78-7.78 2.81-2.81c.8-.78.8-2.07 0-2.86zM5.41 20L4 18.59l7.72-7.72 1.47 1.35L5.41 20z\"/>\n",
              "  </svg>\n",
              "      </button>\n",
              "      \n",
              "  <style>\n",
              "    .colab-df-container {\n",
              "      display:flex;\n",
              "      flex-wrap:wrap;\n",
              "      gap: 12px;\n",
              "    }\n",
              "\n",
              "    .colab-df-convert {\n",
              "      background-color: #E8F0FE;\n",
              "      border: none;\n",
              "      border-radius: 50%;\n",
              "      cursor: pointer;\n",
              "      display: none;\n",
              "      fill: #1967D2;\n",
              "      height: 32px;\n",
              "      padding: 0 0 0 0;\n",
              "      width: 32px;\n",
              "    }\n",
              "\n",
              "    .colab-df-convert:hover {\n",
              "      background-color: #E2EBFA;\n",
              "      box-shadow: 0px 1px 2px rgba(60, 64, 67, 0.3), 0px 1px 3px 1px rgba(60, 64, 67, 0.15);\n",
              "      fill: #174EA6;\n",
              "    }\n",
              "\n",
              "    [theme=dark] .colab-df-convert {\n",
              "      background-color: #3B4455;\n",
              "      fill: #D2E3FC;\n",
              "    }\n",
              "\n",
              "    [theme=dark] .colab-df-convert:hover {\n",
              "      background-color: #434B5C;\n",
              "      box-shadow: 0px 1px 3px 1px rgba(0, 0, 0, 0.15);\n",
              "      filter: drop-shadow(0px 1px 2px rgba(0, 0, 0, 0.3));\n",
              "      fill: #FFFFFF;\n",
              "    }\n",
              "  </style>\n",
              "\n",
              "      <script>\n",
              "        const buttonEl =\n",
              "          document.querySelector('#df-d7f45bfc-3642-45b4-894d-af3dc70b3d4f button.colab-df-convert');\n",
              "        buttonEl.style.display =\n",
              "          google.colab.kernel.accessAllowed ? 'block' : 'none';\n",
              "\n",
              "        async function convertToInteractive(key) {\n",
              "          const element = document.querySelector('#df-d7f45bfc-3642-45b4-894d-af3dc70b3d4f');\n",
              "          const dataTable =\n",
              "            await google.colab.kernel.invokeFunction('convertToInteractive',\n",
              "                                                     [key], {});\n",
              "          if (!dataTable) return;\n",
              "\n",
              "          const docLinkHtml = 'Like what you see? Visit the ' +\n",
              "            '<a target=\"_blank\" href=https://colab.research.google.com/notebooks/data_table.ipynb>data table notebook</a>'\n",
              "            + ' to learn more about interactive tables.';\n",
              "          element.innerHTML = '';\n",
              "          dataTable['output_type'] = 'display_data';\n",
              "          await google.colab.output.renderOutput(dataTable, element);\n",
              "          const docLink = document.createElement('div');\n",
              "          docLink.innerHTML = docLinkHtml;\n",
              "          element.appendChild(docLink);\n",
              "        }\n",
              "      </script>\n",
              "    </div>\n",
              "  </div>\n",
              "  "
            ]
          },
          "metadata": {},
          "execution_count": 7
        }
      ]
    },
    {
      "cell_type": "code",
      "source": [
        "# set label ke dalam variabel y\n",
        "y = df['polarity']\n",
        "y[0:5] # baris ke 0 dan kolom ke 5"
      ],
      "metadata": {
        "id": "qFr_Q0U7WS_w",
        "colab": {
          "base_uri": "https://localhost:8080/"
        },
        "outputId": "700fd25a-08b7-42a1-ec98-9e22b6a4e82c"
      },
      "execution_count": null,
      "outputs": [
        {
          "output_type": "execute_result",
          "data": {
            "text/plain": [
              "0    0\n",
              "1    0\n",
              "2    0\n",
              "3    0\n",
              "4    0\n",
              "Name: polarity, dtype: int64"
            ]
          },
          "metadata": {},
          "execution_count": 8
        }
      ]
    },
    {
      "cell_type": "code",
      "source": [
        "# menampilkan grafik nilai dari variabel y\n",
        "sns.catplot(x=\"polarity\", data=df, kind=\"count\", height=5, aspect=1, palette=\"PuBuGn_d\")\n",
        "plt.show();"
      ],
      "metadata": {
        "id": "0VfAwPJ6WbQy",
        "colab": {
          "base_uri": "https://localhost:8080/",
          "height": 369
        },
        "outputId": "774d4a82-b8e5-4846-b719-e1275577db80"
      },
      "execution_count": null,
      "outputs": [
        {
          "output_type": "display_data",
          "data": {
            "text/plain": [
              "<Figure size 360x360 with 1 Axes>"
            ],
            "image/png": "[encoded data removed]"
          },
          "metadata": {
            "needs_background": "light"
          }
        }
      ]
    },
    {
      "cell_type": "markdown",
      "source": [
        "### Modeling menggunakan 4 algoritma, yaitu Logistic Regression, MultinomialNB, SVM, dan K-NN"
      ],
      "metadata": {
        "id": "T43LbKU9WlKo"
      }
    },
    {
      "cell_type": "markdown",
      "source": [
        "Pembobotan dengan TF-IDF dan split gojek_train_cleaner menjadi data train dan test (80:20)"
      ],
      "metadata": {
        "id": "JdNuj_KeXFlH"
      }
    },
    {
      "cell_type": "code",
      "source": [
        "%%time\n",
        "\n",
        "from sklearn.feature_extraction.text import TfidfVectorizer\n",
        "from sklearn.model_selection import train_test_split, cross_val_score\n",
        "from sklearn.metrics import f1_score, log_loss, accuracy_score, recall_score, precision_score, roc_auc_score, classification_report, confusion_matrix, ConfusionMatrixDisplay\n",
        "\n",
        "# membangun vector space model/pembobotan dengan tfidf\n",
        "vectorizer = TfidfVectorizer(ngram_range=(1, 3), min_df=10)\n",
        "X = vectorizer.fit_transform(df.cleaner_content) #df.cleaner_content -> ngambil atribut cleaner_content dari dataset (df)\n",
        "\n",
        "# melakukan split data training untuk mengetahui akurasi\n",
        "X_train, X_test, y_train, y_test = train_test_split(X, y, test_size=0.2, random_state=42)\n",
        "X.shape, y.shape"
      ],
      "metadata": {
        "id": "pHXYeiCLW7uu",
        "colab": {
          "base_uri": "https://localhost:8080/"
        },
        "outputId": "87f282ef-76d2-4d6e-b7f9-5f84fb5ce97a"
      },
      "execution_count": null,
      "outputs": [
        {
          "output_type": "stream",
          "name": "stdout",
          "text": [
            "CPU times: user 120 ms, sys: 7.49 ms, total: 127 ms\n",
            "Wall time: 154 ms\n"
          ]
        },
        {
          "output_type": "execute_result",
          "data": {
            "text/plain": [
              "((1422, 540), (1422,))"
            ]
          },
          "metadata": {},
          "execution_count": 9
        }
      ]
    },
    {
      "cell_type": "markdown",
      "source": [
        "Modeling dengan Logistic Regression"
      ],
      "metadata": {
        "id": "5gmhSJjPXMMu"
      }
    },
    {
      "cell_type": "code",
      "source": [
        "from sklearn.linear_model import LogisticRegression\n",
        "\n",
        "LR_ = LogisticRegression(C=3.7, solver='liblinear', max_iter = 200).fit(X_train, y_train) # solver : {'newton-cg', 'lbfgs', 'liblinear', 'sag', 'saga'}\n",
        "LR_.score(X_train, y_train)"
      ],
      "metadata": {
        "id": "M6pwdwXNXVnV",
        "colab": {
          "base_uri": "https://localhost:8080/"
        },
        "outputId": "0d7dd334-3140-4246-bdeb-0db88b54cc2d"
      },
      "execution_count": null,
      "outputs": [
        {
          "output_type": "execute_result",
          "data": {
            "text/plain": [
              "0.9454705364995603"
            ]
          },
          "metadata": {},
          "execution_count": 10
        }
      ]
    },
    {
      "cell_type": "markdown",
      "source": [
        "Modeling dengan MultinomialNB"
      ],
      "metadata": {
        "id": "JMByafEpXkiD"
      }
    },
    {
      "cell_type": "code",
      "source": [
        "from sklearn.naive_bayes import MultinomialNB\n",
        "\n",
        "# modeling Naive Bayes\n",
        "NB = MultinomialNB(alpha=0.5) #default alpha = 1.0\n",
        "NB.fit(X_train, y_train)\n",
        "NB.score(X_train, y_train)"
      ],
      "metadata": {
        "id": "fQmnDUCiXj91",
        "colab": {
          "base_uri": "https://localhost:8080/"
        },
        "outputId": "63663036-173c-429b-ec5a-001d729a6b37"
      },
      "execution_count": null,
      "outputs": [
        {
          "output_type": "execute_result",
          "data": {
            "text/plain": [
              "0.8390501319261213"
            ]
          },
          "metadata": {},
          "execution_count": 8
        }
      ]
    },
    {
      "cell_type": "markdown",
      "source": [
        "Modeling dengan SVM"
      ],
      "metadata": {
        "id": "YvBB2OKiXred"
      }
    },
    {
      "cell_type": "code",
      "source": [
        "from sklearn import svm\n",
        "\n",
        "SVM_ = svm.SVC(C=3, kernel='rbf', probability=True,  max_iter = 150).fit(X_train, y_train)\n",
        "SVM_.score(X_train, y_train)"
      ],
      "metadata": {
        "id": "cECZKoSzfA24",
        "colab": {
          "base_uri": "https://localhost:8080/"
        },
        "outputId": "cec89f3c-4bed-4fa8-f083-5188508c9784"
      },
      "execution_count": null,
      "outputs": [
        {
          "output_type": "stream",
          "name": "stderr",
          "text": [
            "/usr/local/lib/python3.8/dist-packages/sklearn/svm/_base.py:284: ConvergenceWarning: Solver terminated early (max_iter=150).  Consider pre-processing your data with StandardScaler or MinMaxScaler.\n",
            "  warnings.warn(\n"
          ]
        },
        {
          "output_type": "execute_result",
          "data": {
            "text/plain": [
              "0.9357959542656112"
            ]
          },
          "metadata": {},
          "execution_count": 9
        }
      ]
    },
    {
      "cell_type": "markdown",
      "source": [
        "Modeling dengan K-NN"
      ],
      "metadata": {
        "id": "KJVilE49XtLs"
      }
    },
    {
      "cell_type": "code",
      "source": [
        "from sklearn.neighbors import KNeighborsClassifier\n",
        "\n",
        "KNN = KNeighborsClassifier(n_neighbors=2, weights='distance', algorithm='brute', leaf_size=100, p=2, metric='minkowski').fit(X_train, y_train)\n",
        "KNN.score(X_train, y_train)"
      ],
      "metadata": {
        "id": "PBvNTgHgfOBA",
        "colab": {
          "base_uri": "https://localhost:8080/"
        },
        "outputId": "13aa629a-ce6a-4a6b-af33-1fa17646f2f1"
      },
      "execution_count": null,
      "outputs": [
        {
          "output_type": "execute_result",
          "data": {
            "text/plain": [
              "1.0"
            ]
          },
          "metadata": {},
          "execution_count": 10
        }
      ]
    },
    {
      "cell_type": "markdown",
      "source": [
        "## Evaluation"
      ],
      "metadata": {
        "id": "JxP45BirXxQm"
      }
    },
    {
      "cell_type": "markdown",
      "source": [
        "### Evaluasi Model Logistic Regression"
      ],
      "metadata": {
        "id": "IkWUOGmlfwvm"
      }
    },
    {
      "cell_type": "code",
      "source": [
        "# melakukan evaluasi\n",
        "yhat = LR_.predict(X_test)\n",
        "print('F1 score: ', f1_score(y_test, yhat, average='weighted')) # average = weighted | binary\n",
        "print('Accuration score: ', accuracy_score(y_test, yhat))\n",
        "print('Recall score: ', recall_score(y_test, yhat, average='weighted'))\n",
        "print('Precision score: ', precision_score(y_test, yhat, average='weighted'))\n",
        "print('ROC AUC score: ', roc_auc_score(y_test, yhat, average='weighted'))\n",
        "\n",
        "yhat_prob = LR_.predict_proba(X_test)\n",
        "print('Log Loss: ', log_loss(y_test, yhat_prob))"
      ],
      "metadata": {
        "id": "roPqA4sQfcmS",
        "colab": {
          "base_uri": "https://localhost:8080/"
        },
        "outputId": "d2406d7f-f671-4d7c-a76f-c90665c5d750"
      },
      "execution_count": null,
      "outputs": [
        {
          "output_type": "stream",
          "name": "stdout",
          "text": [
            "F1 score:  0.8243925793560094\n",
            "Accuration score:  0.8245614035087719\n",
            "Recall score:  0.8245614035087719\n",
            "Precision score:  0.824957129666271\n",
            "ROC AUC score:  0.8239381097861438\n",
            "Log Loss:  0.3857110768469471\n"
          ]
        }
      ]
    },
    {
      "cell_type": "markdown",
      "source": [
        "Classification report Logistic Regression"
      ],
      "metadata": {
        "id": "5x8bOpMigC59"
      }
    },
    {
      "cell_type": "code",
      "source": [
        "print(classification_report(y_test, LR_.predict(X_test)))"
      ],
      "metadata": {
        "id": "GtV6gX_VgG2M",
        "colab": {
          "base_uri": "https://localhost:8080/"
        },
        "outputId": "8f5d35ce-f51b-4b1b-87b5-21bffefda559"
      },
      "execution_count": null,
      "outputs": [
        {
          "output_type": "stream",
          "name": "stdout",
          "text": [
            "              precision    recall  f1-score   support\n",
            "\n",
            "           0       0.82      0.85      0.83       146\n",
            "           1       0.83      0.80      0.82       139\n",
            "\n",
            "    accuracy                           0.82       285\n",
            "   macro avg       0.83      0.82      0.82       285\n",
            "weighted avg       0.82      0.82      0.82       285\n",
            "\n"
          ]
        }
      ]
    },
    {
      "cell_type": "markdown",
      "source": [
        "Confusion Matrix Logistic Regression"
      ],
      "metadata": {
        "id": "QlQ3tbVHgIxm"
      }
    },
    {
      "cell_type": "code",
      "source": [
        "cm = confusion_matrix(y_test, LR_.predict(X_test))\n",
        "disp = ConfusionMatrixDisplay(confusion_matrix=cm, display_labels=LR_.classes_)\n",
        "disp.plot()"
      ],
      "metadata": {
        "id": "Bd_PcHBKgLPg",
        "colab": {
          "base_uri": "https://localhost:8080/",
          "height": 296
        },
        "outputId": "cefb2fb8-2afa-4ffe-f5dc-d11675607ecc"
      },
      "execution_count": null,
      "outputs": [
        {
          "output_type": "execute_result",
          "data": {
            "text/plain": [
              "<sklearn.metrics._plot.confusion_matrix.ConfusionMatrixDisplay at 0x7fd8f0ef0e20>"
            ]
          },
          "metadata": {},
          "execution_count": 13
        },
        {
          "output_type": "display_data",
          "data": {
            "text/plain": [
              "<Figure size 432x288 with 2 Axes>"
            ],
            "image/png": "[encoded data removed]"
          },
          "metadata": {
            "needs_background": "light"
          }
        }
      ]
    },
    {
      "cell_type": "markdown",
      "source": [
        "### Evaluasi Model MultinomialNB"
      ],
      "metadata": {
        "id": "BXHle28XgUt1"
      }
    },
    {
      "cell_type": "code",
      "source": [
        "yhat = NB.predict(X_test)\n",
        "print('F1 score: ', f1_score(y_test, yhat, average='weighted')) # average = weighted | binary\n",
        "print('Accuration score: ', accuracy_score(y_test, yhat))\n",
        "print('Recall score: ', recall_score(y_test, yhat, average='weighted'))\n",
        "print('Precision score: ', precision_score(y_test, yhat, average='weighted'))\n",
        "print('ROC AUC score: ', roc_auc_score(y_test, yhat, average='weighted'))\n",
        "\n",
        "yhat_prob = NB.predict_proba(X_test)\n",
        "print('Log Loss: ', log_loss(y_test, yhat_prob))"
      ],
      "metadata": {
        "id": "lIhs_LasgcU0",
        "colab": {
          "base_uri": "https://localhost:8080/"
        },
        "outputId": "37afe5dd-02e1-4b0f-9b21-21900f450cf6"
      },
      "execution_count": null,
      "outputs": [
        {
          "output_type": "stream",
          "name": "stdout",
          "text": [
            "F1 score:  0.7611739079241727\n",
            "Accuration score:  0.7614035087719299\n",
            "Recall score:  0.7614035087719299\n",
            "Precision score:  0.7616211581585544\n",
            "ROC AUC score:  0.7607420912585001\n",
            "Log Loss:  0.5124389299591752\n"
          ]
        }
      ]
    },
    {
      "cell_type": "markdown",
      "source": [
        "Classification Report MultinomialNB"
      ],
      "metadata": {
        "id": "ptfRCMI9gj5G"
      }
    },
    {
      "cell_type": "code",
      "source": [
        "print(classification_report(y_test, NB.predict(X_test)))"
      ],
      "metadata": {
        "id": "YVkrXOgvgfoK",
        "colab": {
          "base_uri": "https://localhost:8080/"
        },
        "outputId": "514a2e0a-b022-49f5-fa4f-6149af9af0f1"
      },
      "execution_count": null,
      "outputs": [
        {
          "output_type": "stream",
          "name": "stdout",
          "text": [
            "              precision    recall  f1-score   support\n",
            "\n",
            "           0       0.76      0.79      0.77       146\n",
            "           1       0.77      0.73      0.75       139\n",
            "\n",
            "    accuracy                           0.76       285\n",
            "   macro avg       0.76      0.76      0.76       285\n",
            "weighted avg       0.76      0.76      0.76       285\n",
            "\n"
          ]
        }
      ]
    },
    {
      "cell_type": "markdown",
      "source": [
        "Confusion Matrix MultinomialNB"
      ],
      "metadata": {
        "id": "eb61sutvgkgW"
      }
    },
    {
      "cell_type": "code",
      "source": [
        "cm = confusion_matrix(y_test, NB.predict(X_test))\n",
        "disp = ConfusionMatrixDisplay(confusion_matrix=cm, display_labels=NB.classes_)\n",
        "disp.plot()"
      ],
      "metadata": {
        "id": "06915PTHgmoN",
        "colab": {
          "base_uri": "https://localhost:8080/",
          "height": 296
        },
        "outputId": "22292625-2c47-4a50-9a31-4b11f1abc881"
      },
      "execution_count": null,
      "outputs": [
        {
          "output_type": "execute_result",
          "data": {
            "text/plain": [
              "<sklearn.metrics._plot.confusion_matrix.ConfusionMatrixDisplay at 0x7fb582db3cd0>"
            ]
          },
          "metadata": {},
          "execution_count": 16
        },
        {
          "output_type": "display_data",
          "data": {
            "text/plain": [
              "<Figure size 432x288 with 2 Axes>"
            ],
            "image/png": "[encoded data removed]"
          },
          "metadata": {
            "needs_background": "light"
          }
        }
      ]
    },
    {
      "cell_type": "markdown",
      "source": [
        "### Evaluasi Model SVM"
      ],
      "metadata": {
        "id": "wmz_e26zgwqm"
      }
    },
    {
      "cell_type": "code",
      "source": [
        "yhat = SVM_.predict(X_test)\n",
        "print('F1 score: ', f1_score(y_test, yhat, average='weighted')) # average = weighted | binary\n",
        "print('Accuration score: ', accuracy_score(y_test, yhat))\n",
        "print('Recall score: ', recall_score(y_test, yhat, average='weighted'))\n",
        "print('Precision score: ', precision_score(y_test, yhat, average='weighted'))\n",
        "print('ROC AUC score: ', roc_auc_score(y_test, yhat, average='weighted'))\n",
        "\n",
        "yhat_prob = SVM_.predict_proba(X_test)\n",
        "print('Log Loss: ', log_loss(y_test, yhat_prob))"
      ],
      "metadata": {
        "id": "IAxToHy_gyzk",
        "colab": {
          "base_uri": "https://localhost:8080/"
        },
        "outputId": "fc9cc834-4e8a-4bc0-d893-c93c61f12679"
      },
      "execution_count": null,
      "outputs": [
        {
          "output_type": "stream",
          "name": "stdout",
          "text": [
            "F1 score:  0.7649122807017544\n",
            "Accuration score:  0.7649122807017544\n",
            "Recall score:  0.7649122807017544\n",
            "Precision score:  0.7658357236345027\n",
            "ROC AUC score:  0.7653740021681286\n",
            "Log Loss:  0.4602198755340401\n"
          ]
        }
      ]
    },
    {
      "cell_type": "markdown",
      "source": [
        "Classification Report SVM"
      ],
      "metadata": {
        "id": "QOikyCUphBO2"
      }
    },
    {
      "cell_type": "code",
      "source": [
        "print(classification_report(y_test, SVM_.predict(X_test)))"
      ],
      "metadata": {
        "id": "2Tb7wl7Lg3ik",
        "colab": {
          "base_uri": "https://localhost:8080/"
        },
        "outputId": "e761593d-d246-449f-e278-29a5671cf853"
      },
      "execution_count": null,
      "outputs": [
        {
          "output_type": "stream",
          "name": "stdout",
          "text": [
            "              precision    recall  f1-score   support\n",
            "\n",
            "           0       0.78      0.75      0.76       146\n",
            "           1       0.75      0.78      0.76       139\n",
            "\n",
            "    accuracy                           0.76       285\n",
            "   macro avg       0.77      0.77      0.76       285\n",
            "weighted avg       0.77      0.76      0.76       285\n",
            "\n"
          ]
        }
      ]
    },
    {
      "cell_type": "markdown",
      "source": [
        "Confusion Matrix SVM"
      ],
      "metadata": {
        "id": "_jkLqOgqhCW0"
      }
    },
    {
      "cell_type": "code",
      "source": [
        "cm = confusion_matrix(y_test, SVM_.predict(X_test))\n",
        "disp = ConfusionMatrixDisplay(confusion_matrix=cm, display_labels=SVM_.classes_)\n",
        "disp.plot()"
      ],
      "metadata": {
        "id": "OOq682QRg2rF",
        "colab": {
          "base_uri": "https://localhost:8080/",
          "height": 296
        },
        "outputId": "aa4adbb3-5d78-4b46-f9ad-ac9e5147e6ef"
      },
      "execution_count": null,
      "outputs": [
        {
          "output_type": "execute_result",
          "data": {
            "text/plain": [
              "<sklearn.metrics._plot.confusion_matrix.ConfusionMatrixDisplay at 0x7fb585def7c0>"
            ]
          },
          "metadata": {},
          "execution_count": 19
        },
        {
          "output_type": "display_data",
          "data": {
            "text/plain": [
              "<Figure size 432x288 with 2 Axes>"
            ],
            "image/png": "[encoded data removed]"
          },
          "metadata": {
            "needs_background": "light"
          }
        }
      ]
    },
    {
      "cell_type": "markdown",
      "source": [
        "### Evaluasi Model K-NN"
      ],
      "metadata": {
        "id": "90HOBmVfhGwr"
      }
    },
    {
      "cell_type": "code",
      "source": [
        "# melakukan evaluasi\n",
        "yhat = KNN.predict(X_test)\n",
        "print('F1 score: ', f1_score(y_test, yhat, average='binary')) # average = weighted | binary\n",
        "print('Accuration score: ', accuracy_score(y_test, yhat))\n",
        "print('Recall score: ', recall_score(y_test, yhat, average='binary'))\n",
        "print('Precision score: ', precision_score(y_test, yhat, average='weighted'))\n",
        "print('ROC AUC score: ', roc_auc_score(y_test, yhat, average='weighted'))\n",
        "\n",
        "yhat_prob = KNN.predict_proba(X_test)\n",
        "print('Log Loss: ', log_loss(y_test, yhat_prob))"
      ],
      "metadata": {
        "id": "UBve-rwghK7T",
        "colab": {
          "base_uri": "https://localhost:8080/"
        },
        "outputId": "914289aa-27c9-49f7-daa4-4eaf0eaed72a"
      },
      "execution_count": null,
      "outputs": [
        {
          "output_type": "stream",
          "name": "stdout",
          "text": [
            "F1 score:  0.6565656565656566\n",
            "Accuration score:  0.5228070175438596\n",
            "Recall score:  0.935251798561151\n",
            "Precision score:  0.5943253074320041\n",
            "ROC AUC score:  0.5326943924312604\n",
            "Log Loss:  6.53326811032147\n"
          ]
        }
      ]
    },
    {
      "cell_type": "markdown",
      "source": [
        "Classification Report K-NN"
      ],
      "metadata": {
        "id": "xtWcqM2ZhWjD"
      }
    },
    {
      "cell_type": "code",
      "source": [
        "print(classification_report(y_test, KNN.predict(X_test)))"
      ],
      "metadata": {
        "id": "fR_GGkkEheKM",
        "colab": {
          "base_uri": "https://localhost:8080/"
        },
        "outputId": "f236969e-0b9f-4bca-d7f9-b8dd63c44249"
      },
      "execution_count": null,
      "outputs": [
        {
          "output_type": "stream",
          "name": "stdout",
          "text": [
            "              precision    recall  f1-score   support\n",
            "\n",
            "           0       0.68      0.13      0.22       146\n",
            "           1       0.51      0.94      0.66       139\n",
            "\n",
            "    accuracy                           0.52       285\n",
            "   macro avg       0.59      0.53      0.44       285\n",
            "weighted avg       0.59      0.52      0.43       285\n",
            "\n"
          ]
        }
      ]
    },
    {
      "cell_type": "markdown",
      "source": [
        "Confusion Matrix K-NN"
      ],
      "metadata": {
        "id": "KCQBnnISh_nC"
      }
    },
    {
      "cell_type": "code",
      "source": [
        "cm = confusion_matrix(y_test, KNN.predict(X_test))\n",
        "disp = ConfusionMatrixDisplay(confusion_matrix=cm, display_labels=KNN.classes_)\n",
        "disp.plot()"
      ],
      "metadata": {
        "id": "5mVR-GsJhedJ",
        "colab": {
          "base_uri": "https://localhost:8080/",
          "height": 296
        },
        "outputId": "ff9395e2-6f04-4272-f115-2ceedc80e9b1"
      },
      "execution_count": null,
      "outputs": [
        {
          "output_type": "execute_result",
          "data": {
            "text/plain": [
              "<sklearn.metrics._plot.confusion_matrix.ConfusionMatrixDisplay at 0x7fb582c4a2b0>"
            ]
          },
          "metadata": {},
          "execution_count": 22
        },
        {
          "output_type": "display_data",
          "data": {
            "text/plain": [
              "<Figure size 432x288 with 2 Axes>"
            ],
            "image/png": "[encoded data removed]"
          },
          "metadata": {
            "needs_background": "light"
          }
        }
      ]
    },
    {
      "cell_type": "markdown",
      "source": [
        "# Memprediksi hasil Pengujian Data"
      ],
      "metadata": {
        "id": "FgPaJLYIiIO9"
      }
    },
    {
      "cell_type": "markdown",
      "source": [
        "## Logistic Regression mendapatkan hasil accuration, recall, f1-score, dan precision tertinggi. Hasil classification report dan confusion matrix juga baik dan akurat. Maka, Logistic Regression (LR) kami pilih untuk melakukan prediksi pengujian data menggunakan dataset uji."
      ],
      "metadata": {
        "id": "wS8kAIWMi4xy"
      }
    },
    {
      "cell_type": "markdown",
      "source": [
        "\n",
        "\n",
        "\n",
        "*   Link dataset = [gojek_test.csv](https://drive.google.com/file/d/1UPZ558sSyeHcfGozeFEA-gg3KJ93wf-e/view?usp=share_link)\n",
        "*   Link stopwordlist = [stopwordlist.txt](https://drive.google.com/file/d/1BflOn2mYrzIPYzG1WWlIuIeivckdphbv/view?usp=share_link)\n",
        "\n"
      ],
      "metadata": {
        "id": "0mqAirrGi_zI"
      }
    },
    {
      "cell_type": "code",
      "source": [
        "# prediksi data yang tidak diketahui labelnya\n",
        "# preprocessing data yang tidak diketahui albelnya\n",
        "df_test = pd.read_csv(r'/content/drive/MyDrive/Colab Notebooks/Bahan untuk PA/gojek_test.csv')\n",
        "df_test.head()"
      ],
      "metadata": {
        "id": "v8ptkTsXi8jQ",
        "colab": {
          "base_uri": "https://localhost:8080/",
          "height": 206
        },
        "outputId": "386710a3-2cd9-4d7b-fdf7-afcb8322c26c"
      },
      "execution_count": null,
      "outputs": [
        {
          "output_type": "execute_result",
          "data": {
            "text/plain": [
              "                                             content\n",
              "0  sekarang kenapa promonya ga bisa kepasang lang...\n",
              "1  aku mau cerita pengalaman ku menggunakan gojek...\n",
              "2  paket gofood plus nya kenapa diubah jadi maksi...\n",
              "3  sebelumnya promo gofood dari resto terpasang o...\n",
              "4  sekarang promo gak bisa otomatis terpasang dlu..."
            ],
            "text/html": [
              "\n",
              "  <div id=\"df-a4d77a10-bd9b-4b9c-ae1a-23efa539e292\">\n",
              "    <div class=\"colab-df-container\">\n",
              "      <div>\n",
              "<style scoped>\n",
              "    .dataframe tbody tr th:only-of-type {\n",
              "        vertical-align: middle;\n",
              "    }\n",
              "\n",
              "    .dataframe tbody tr th {\n",
              "        vertical-align: top;\n",
              "    }\n",
              "\n",
              "    .dataframe thead th {\n",
              "        text-align: right;\n",
              "    }\n",
              "</style>\n",
              "<table border=\"1\" class=\"dataframe\">\n",
              "  <thead>\n",
              "    <tr style=\"text-align: right;\">\n",
              "      <th></th>\n",
              "      <th>content</th>\n",
              "    </tr>\n",
              "  </thead>\n",
              "  <tbody>\n",
              "    <tr>\n",
              "      <th>0</th>\n",
              "      <td>sekarang kenapa promonya ga bisa kepasang lang...</td>\n",
              "    </tr>\n",
              "    <tr>\n",
              "      <th>1</th>\n",
              "      <td>aku mau cerita pengalaman ku menggunakan gojek...</td>\n",
              "    </tr>\n",
              "    <tr>\n",
              "      <th>2</th>\n",
              "      <td>paket gofood plus nya kenapa diubah jadi maksi...</td>\n",
              "    </tr>\n",
              "    <tr>\n",
              "      <th>3</th>\n",
              "      <td>sebelumnya promo gofood dari resto terpasang o...</td>\n",
              "    </tr>\n",
              "    <tr>\n",
              "      <th>4</th>\n",
              "      <td>sekarang promo gak bisa otomatis terpasang dlu...</td>\n",
              "    </tr>\n",
              "  </tbody>\n",
              "</table>\n",
              "</div>\n",
              "      <button class=\"colab-df-convert\" onclick=\"convertToInteractive('df-a4d77a10-bd9b-4b9c-ae1a-23efa539e292')\"\n",
              "              title=\"Convert this dataframe to an interactive table.\"\n",
              "              style=\"display:none;\">\n",
              "        \n",
              "  <svg xmlns=\"http://www.w3.org/2000/svg\" height=\"24px\"viewBox=\"0 0 24 24\"\n",
              "       width=\"24px\">\n",
              "    <path d=\"M0 0h24v24H0V0z\" fill=\"none\"/>\n",
              "    <path d=\"M18.56 5.44l.94 2.06.94-2.06 2.06-.94-2.06-.94-.94-2.06-.94 2.06-2.06.94zm-11 1L8.5 8.5l.94-2.06 2.06-.94-2.06-.94L8.5 2.5l-.94 2.06-2.06.94zm10 10l.94 2.06.94-2.06 2.06-.94-2.06-.94-.94-2.06-.94 2.06-2.06.94z\"/><path d=\"M17.41 7.96l-1.37-1.37c-.4-.4-.92-.59-1.43-.59-.52 0-1.04.2-1.43.59L10.3 9.45l-7.72 7.72c-.78.78-.78 2.05 0 2.83L4 21.41c.39.39.9.59 1.41.59.51 0 1.02-.2 1.41-.59l7.78-7.78 2.81-2.81c.8-.78.8-2.07 0-2.86zM5.41 20L4 18.59l7.72-7.72 1.47 1.35L5.41 20z\"/>\n",
              "  </svg>\n",
              "      </button>\n",
              "      \n",
              "  <style>\n",
              "    .colab-df-container {\n",
              "      display:flex;\n",
              "      flex-wrap:wrap;\n",
              "      gap: 12px;\n",
              "    }\n",
              "\n",
              "    .colab-df-convert {\n",
              "      background-color: #E8F0FE;\n",
              "      border: none;\n",
              "      border-radius: 50%;\n",
              "      cursor: pointer;\n",
              "      display: none;\n",
              "      fill: #1967D2;\n",
              "      height: 32px;\n",
              "      padding: 0 0 0 0;\n",
              "      width: 32px;\n",
              "    }\n",
              "\n",
              "    .colab-df-convert:hover {\n",
              "      background-color: #E2EBFA;\n",
              "      box-shadow: 0px 1px 2px rgba(60, 64, 67, 0.3), 0px 1px 3px 1px rgba(60, 64, 67, 0.15);\n",
              "      fill: #174EA6;\n",
              "    }\n",
              "\n",
              "    [theme=dark] .colab-df-convert {\n",
              "      background-color: #3B4455;\n",
              "      fill: #D2E3FC;\n",
              "    }\n",
              "\n",
              "    [theme=dark] .colab-df-convert:hover {\n",
              "      background-color: #434B5C;\n",
              "      box-shadow: 0px 1px 3px 1px rgba(0, 0, 0, 0.15);\n",
              "      filter: drop-shadow(0px 1px 2px rgba(0, 0, 0, 0.3));\n",
              "      fill: #FFFFFF;\n",
              "    }\n",
              "  </style>\n",
              "\n",
              "      <script>\n",
              "        const buttonEl =\n",
              "          document.querySelector('#df-a4d77a10-bd9b-4b9c-ae1a-23efa539e292 button.colab-df-convert');\n",
              "        buttonEl.style.display =\n",
              "          google.colab.kernel.accessAllowed ? 'block' : 'none';\n",
              "\n",
              "        async function convertToInteractive(key) {\n",
              "          const element = document.querySelector('#df-a4d77a10-bd9b-4b9c-ae1a-23efa539e292');\n",
              "          const dataTable =\n",
              "            await google.colab.kernel.invokeFunction('convertToInteractive',\n",
              "                                                     [key], {});\n",
              "          if (!dataTable) return;\n",
              "\n",
              "          const docLinkHtml = 'Like what you see? Visit the ' +\n",
              "            '<a target=\"_blank\" href=https://colab.research.google.com/notebooks/data_table.ipynb>data table notebook</a>'\n",
              "            + ' to learn more about interactive tables.';\n",
              "          element.innerHTML = '';\n",
              "          dataTable['output_type'] = 'display_data';\n",
              "          await google.colab.output.renderOutput(dataTable, element);\n",
              "          const docLink = document.createElement('div');\n",
              "          docLink.innerHTML = docLinkHtml;\n",
              "          element.appendChild(docLink);\n",
              "        }\n",
              "      </script>\n",
              "    </div>\n",
              "  </div>\n",
              "  "
            ]
          },
          "metadata": {},
          "execution_count": 14
        }
      ]
    },
    {
      "cell_type": "markdown",
      "source": [
        "### Cleaning gojek_test.csv"
      ],
      "metadata": {
        "id": "yri3acFdkR8D"
      }
    },
    {
      "cell_type": "code",
      "source": [
        "# menyimpan kata-kata stopword dari stopwordlist.txt\n",
        "f=open('/content/drive/MyDrive/Colab Notebooks/Bahan untuk PA/stopwordlist.txt') # diambil dari \"Bahan untuk PA\". sesuaikan path dari drive masing2\n",
        "ina_stopword = f.read()\n",
        "\n",
        "tempStoplist = []\n",
        "# split data\n",
        "for tempstp in ina_stopword.split():\n",
        "  tempStoplist.append(tempstp)"
      ],
      "metadata": {
        "id": "mX8C9ZVXj9lB"
      },
      "execution_count": null,
      "outputs": []
    },
    {
      "cell_type": "code",
      "source": [
        "text_cleaning_re = '@#=-_\\S+|https?:\\S+http?:\\S|{^A-Za-z}+:\\S[0-9]+' # menghapus tanda baca yang tidak diperlukan\n",
        "# text = re.sub(r'[0-9]+', '', text) # remove numbers\n",
        "#     text = re.sub(r'[^\\w]', ' ', text) # remove special characters\n",
        "\n",
        "def preprocessing(gojek):\n",
        "  gojek = re.sub(text_cleaning_re, '', str(gojek).lower()).strip() # casefolding (mengubah semua bentuk huruf huruf kecil semua) dan remove punctuation\n",
        "  tokens = []\n",
        "  for token in gojek.split():\n",
        "    if token not in tempStoplist: # jika token tidak ada di stopword, maka akan disimpan\n",
        "      token = stemmer.stem(token) # stemming\n",
        "      tokens.append(token) # menambahkan hasil stemming ke list tokens\n",
        "  return \" \".join(tokens)\n"
      ],
      "metadata": {
        "id": "YoK4hs8vjhSL"
      },
      "execution_count": null,
      "outputs": []
    },
    {
      "cell_type": "code",
      "source": [
        "# casefolding, filtering, dan stemming data yang tidak diketahui labelnya\n",
        "\n",
        "df_test['clean_content'] = df_test.content.apply(lambda x: preprocessing(x)) #memanggil function preprocessing\n",
        "df_test['clean_content'] = df_test.clean_content.str.replace('ðŸ‘Ž', '') # menghapus huruf acakadul\n",
        "df_test.head()"
      ],
      "metadata": {
        "id": "ulimpd12jKBf",
        "colab": {
          "base_uri": "https://localhost:8080/",
          "height": 206
        },
        "outputId": "05438592-1e8c-4588-f5ec-aee374fd3f15"
      },
      "execution_count": null,
      "outputs": [
        {
          "output_type": "execute_result",
          "data": {
            "text/plain": [
              "                                             content  \\\n",
              "0  sekarang kenapa promonya ga bisa kepasang lang...   \n",
              "1  aku mau cerita pengalaman ku menggunakan gojek...   \n",
              "2  paket gofood plus nya kenapa diubah jadi maksi...   \n",
              "3  sebelumnya promo gofood dari resto terpasang o...   \n",
              "4  sekarang promo gak bisa otomatis terpasang dlu...   \n",
              "\n",
              "                                       clean_content  \n",
              "0  promonya ga pasang langsung ya  pdahal mudah m...  \n",
              "1  cerita alam ku gojek ini 2 minggu pesan gocar ...  \n",
              "2  paket gofood plus ubah maksimal free ongkir 20...  \n",
              "3  promo gofood resto pasang otomatis min skrg ya...  \n",
              "4  promo otomatis pasang dlu 2 pake voucher promo...  "
            ],
            "text/html": [
              "\n",
              "  <div id=\"df-26b28e02-91b6-41ea-a8c2-69d0577f10f9\">\n",
              "    <div class=\"colab-df-container\">\n",
              "      <div>\n",
              "<style scoped>\n",
              "    .dataframe tbody tr th:only-of-type {\n",
              "        vertical-align: middle;\n",
              "    }\n",
              "\n",
              "    .dataframe tbody tr th {\n",
              "        vertical-align: top;\n",
              "    }\n",
              "\n",
              "    .dataframe thead th {\n",
              "        text-align: right;\n",
              "    }\n",
              "</style>\n",
              "<table border=\"1\" class=\"dataframe\">\n",
              "  <thead>\n",
              "    <tr style=\"text-align: right;\">\n",
              "      <th></th>\n",
              "      <th>content</th>\n",
              "      <th>clean_content</th>\n",
              "    </tr>\n",
              "  </thead>\n",
              "  <tbody>\n",
              "    <tr>\n",
              "      <th>0</th>\n",
              "      <td>sekarang kenapa promonya ga bisa kepasang lang...</td>\n",
              "      <td>promonya ga pasang langsung ya  pdahal mudah m...</td>\n",
              "    </tr>\n",
              "    <tr>\n",
              "      <th>1</th>\n",
              "      <td>aku mau cerita pengalaman ku menggunakan gojek...</td>\n",
              "      <td>cerita alam ku gojek ini 2 minggu pesan gocar ...</td>\n",
              "    </tr>\n",
              "    <tr>\n",
              "      <th>2</th>\n",
              "      <td>paket gofood plus nya kenapa diubah jadi maksi...</td>\n",
              "      <td>paket gofood plus ubah maksimal free ongkir 20...</td>\n",
              "    </tr>\n",
              "    <tr>\n",
              "      <th>3</th>\n",
              "      <td>sebelumnya promo gofood dari resto terpasang o...</td>\n",
              "      <td>promo gofood resto pasang otomatis min skrg ya...</td>\n",
              "    </tr>\n",
              "    <tr>\n",
              "      <th>4</th>\n",
              "      <td>sekarang promo gak bisa otomatis terpasang dlu...</td>\n",
              "      <td>promo otomatis pasang dlu 2 pake voucher promo...</td>\n",
              "    </tr>\n",
              "  </tbody>\n",
              "</table>\n",
              "</div>\n",
              "      <button class=\"colab-df-convert\" onclick=\"convertToInteractive('df-26b28e02-91b6-41ea-a8c2-69d0577f10f9')\"\n",
              "              title=\"Convert this dataframe to an interactive table.\"\n",
              "              style=\"display:none;\">\n",
              "        \n",
              "  <svg xmlns=\"http://www.w3.org/2000/svg\" height=\"24px\"viewBox=\"0 0 24 24\"\n",
              "       width=\"24px\">\n",
              "    <path d=\"M0 0h24v24H0V0z\" fill=\"none\"/>\n",
              "    <path d=\"M18.56 5.44l.94 2.06.94-2.06 2.06-.94-2.06-.94-.94-2.06-.94 2.06-2.06.94zm-11 1L8.5 8.5l.94-2.06 2.06-.94-2.06-.94L8.5 2.5l-.94 2.06-2.06.94zm10 10l.94 2.06.94-2.06 2.06-.94-2.06-.94-.94-2.06-.94 2.06-2.06.94z\"/><path d=\"M17.41 7.96l-1.37-1.37c-.4-.4-.92-.59-1.43-.59-.52 0-1.04.2-1.43.59L10.3 9.45l-7.72 7.72c-.78.78-.78 2.05 0 2.83L4 21.41c.39.39.9.59 1.41.59.51 0 1.02-.2 1.41-.59l7.78-7.78 2.81-2.81c.8-.78.8-2.07 0-2.86zM5.41 20L4 18.59l7.72-7.72 1.47 1.35L5.41 20z\"/>\n",
              "  </svg>\n",
              "      </button>\n",
              "      \n",
              "  <style>\n",
              "    .colab-df-container {\n",
              "      display:flex;\n",
              "      flex-wrap:wrap;\n",
              "      gap: 12px;\n",
              "    }\n",
              "\n",
              "    .colab-df-convert {\n",
              "      background-color: #E8F0FE;\n",
              "      border: none;\n",
              "      border-radius: 50%;\n",
              "      cursor: pointer;\n",
              "      display: none;\n",
              "      fill: #1967D2;\n",
              "      height: 32px;\n",
              "      padding: 0 0 0 0;\n",
              "      width: 32px;\n",
              "    }\n",
              "\n",
              "    .colab-df-convert:hover {\n",
              "      background-color: #E2EBFA;\n",
              "      box-shadow: 0px 1px 2px rgba(60, 64, 67, 0.3), 0px 1px 3px 1px rgba(60, 64, 67, 0.15);\n",
              "      fill: #174EA6;\n",
              "    }\n",
              "\n",
              "    [theme=dark] .colab-df-convert {\n",
              "      background-color: #3B4455;\n",
              "      fill: #D2E3FC;\n",
              "    }\n",
              "\n",
              "    [theme=dark] .colab-df-convert:hover {\n",
              "      background-color: #434B5C;\n",
              "      box-shadow: 0px 1px 3px 1px rgba(0, 0, 0, 0.15);\n",
              "      filter: drop-shadow(0px 1px 2px rgba(0, 0, 0, 0.3));\n",
              "      fill: #FFFFFF;\n",
              "    }\n",
              "  </style>\n",
              "\n",
              "      <script>\n",
              "        const buttonEl =\n",
              "          document.querySelector('#df-26b28e02-91b6-41ea-a8c2-69d0577f10f9 button.colab-df-convert');\n",
              "        buttonEl.style.display =\n",
              "          google.colab.kernel.accessAllowed ? 'block' : 'none';\n",
              "\n",
              "        async function convertToInteractive(key) {\n",
              "          const element = document.querySelector('#df-26b28e02-91b6-41ea-a8c2-69d0577f10f9');\n",
              "          const dataTable =\n",
              "            await google.colab.kernel.invokeFunction('convertToInteractive',\n",
              "                                                     [key], {});\n",
              "          if (!dataTable) return;\n",
              "\n",
              "          const docLinkHtml = 'Like what you see? Visit the ' +\n",
              "            '<a target=\"_blank\" href=https://colab.research.google.com/notebooks/data_table.ipynb>data table notebook</a>'\n",
              "            + ' to learn more about interactive tables.';\n",
              "          element.innerHTML = '';\n",
              "          dataTable['output_type'] = 'display_data';\n",
              "          await google.colab.output.renderOutput(dataTable, element);\n",
              "          const docLink = document.createElement('div');\n",
              "          docLink.innerHTML = docLinkHtml;\n",
              "          element.appendChild(docLink);\n",
              "        }\n",
              "      </script>\n",
              "    </div>\n",
              "  </div>\n",
              "  "
            ]
          },
          "metadata": {},
          "execution_count": 17
        }
      ]
    },
    {
      "cell_type": "code",
      "source": [
        "# pembobotan data test\n",
        "\n",
        "# vector_test = TfidfVectorizer(ngram_range=(1,3), min_df=10)\n",
        "# feature_test = vector_test.fit_transform(df_test.clean_content)"
      ],
      "metadata": {
        "id": "vTvVm4OckYs-"
      },
      "execution_count": null,
      "outputs": []
    },
    {
      "cell_type": "markdown",
      "source": [
        "### Train data test agar dapat memprediksi input dari user"
      ],
      "metadata": {
        "id": "tH39YZRXk9_v"
      }
    },
    {
      "cell_type": "code",
      "source": [
        "# function training data test\n",
        "def training_step(data, vectorizer):\n",
        "  features = vectorizer.fit_transform(df.cleaner_content) # pake atribut cleaner_content dari dataset df (dataframe train)\n",
        "  LR_ = LogisticRegression(C=3, solver='liblinear', max_iter = 150).fit(features, y)\n",
        "  return LR_\n",
        "\n",
        "# testing\n",
        "classifier = training_step(df.cleaner_content, vectorizer)\n",
        "result = classifier.predict(vectorizer.transform(df_test.clean_content))\n",
        "\n",
        "result"
      ],
      "metadata": {
        "id": "bFhBqMlGkfE2",
        "colab": {
          "base_uri": "https://localhost:8080/"
        },
        "outputId": "54eb4dab-27e5-4284-de60-66508e5a4ee1"
      },
      "execution_count": null,
      "outputs": [
        {
          "output_type": "execute_result",
          "data": {
            "text/plain": [
              "array([1, 1, 1, 1, 1, 1, 1, 1, 1, 1, 1, 1, 1, 1, 1, 1, 1, 1, 1, 1, 1, 1,\n",
              "       1, 1, 1, 1, 1, 1, 1, 1, 1, 1, 1, 1, 1, 1, 1, 1, 1, 1, 1, 1, 1, 1,\n",
              "       1, 1, 1, 1, 1, 1, 1, 1, 1, 1, 1, 1, 1, 1, 1, 1, 1, 1, 1, 1, 1, 1,\n",
              "       1, 1, 1, 1, 0, 0, 0, 0, 0, 0, 0, 0, 0, 0, 0, 0, 0, 0, 0, 0, 0, 0,\n",
              "       0, 0, 0, 0, 0, 0, 0, 0, 0, 0, 0, 0, 0, 0, 0, 0, 0, 0, 0, 0, 0, 0,\n",
              "       0, 0, 0, 0, 0, 0, 0, 0, 0, 0, 0, 0, 0, 0, 0, 0, 0, 0, 0, 0, 0, 0,\n",
              "       0, 0, 0, 0, 0, 0, 0, 0, 0, 0, 0, 0, 0, 0, 0, 0, 0, 0, 0, 0, 0, 0,\n",
              "       0, 0, 0, 0, 0, 0, 0, 0, 0, 0, 0, 0, 0, 0, 0, 0, 0, 0, 0, 0, 0, 0,\n",
              "       0, 0, 0, 0, 0, 0, 0, 0, 0, 0, 0, 0, 0, 0])"
            ]
          },
          "metadata": {},
          "execution_count": 18
        }
      ]
    },
    {
      "cell_type": "markdown",
      "source": [
        "Menyimpan hasil prediksi ke dalam bentuk txt"
      ],
      "metadata": {
        "id": "qgVuP80plDnk"
      }
    },
    {
      "cell_type": "code",
      "source": [
        "np.savetxt('/content/drive/MyDrive/Colab Notebooks/Bahan untuk PA/hasil_pred_LR_gojek.txt', result, fmt='%i', delimiter='\\n')"
      ],
      "metadata": {
        "id": "JiZTVnsaklai"
      },
      "execution_count": null,
      "outputs": []
    },
    {
      "cell_type": "markdown",
      "source": [
        "Memanggil hasil prediksi untuk melakukan prediksi ulasan input dari user"
      ],
      "metadata": {
        "id": "ShWFDQyFlHUr"
      }
    },
    {
      "cell_type": "code",
      "source": [
        "df_hasil = pd.read_csv(r'/content/drive/MyDrive/Colab Notebooks/Bahan untuk PA/hasil_pred_LR_gojek.txt')\n",
        "df_hasil.head()"
      ],
      "metadata": {
        "id": "vaGGEr1fk66w",
        "colab": {
          "base_uri": "https://localhost:8080/",
          "height": 206
        },
        "outputId": "ca4d9d92-6941-4068-cd4f-cb43b704d5f3"
      },
      "execution_count": null,
      "outputs": [
        {
          "output_type": "execute_result",
          "data": {
            "text/plain": [
              "   1\n",
              "0  1\n",
              "1  1\n",
              "2  1\n",
              "3  1\n",
              "4  1"
            ],
            "text/html": [
              "\n",
              "  <div id=\"df-4de9cc39-9b2f-4219-bf41-e521bd0be054\">\n",
              "    <div class=\"colab-df-container\">\n",
              "      <div>\n",
              "<style scoped>\n",
              "    .dataframe tbody tr th:only-of-type {\n",
              "        vertical-align: middle;\n",
              "    }\n",
              "\n",
              "    .dataframe tbody tr th {\n",
              "        vertical-align: top;\n",
              "    }\n",
              "\n",
              "    .dataframe thead th {\n",
              "        text-align: right;\n",
              "    }\n",
              "</style>\n",
              "<table border=\"1\" class=\"dataframe\">\n",
              "  <thead>\n",
              "    <tr style=\"text-align: right;\">\n",
              "      <th></th>\n",
              "      <th>1</th>\n",
              "    </tr>\n",
              "  </thead>\n",
              "  <tbody>\n",
              "    <tr>\n",
              "      <th>0</th>\n",
              "      <td>1</td>\n",
              "    </tr>\n",
              "    <tr>\n",
              "      <th>1</th>\n",
              "      <td>1</td>\n",
              "    </tr>\n",
              "    <tr>\n",
              "      <th>2</th>\n",
              "      <td>1</td>\n",
              "    </tr>\n",
              "    <tr>\n",
              "      <th>3</th>\n",
              "      <td>1</td>\n",
              "    </tr>\n",
              "    <tr>\n",
              "      <th>4</th>\n",
              "      <td>1</td>\n",
              "    </tr>\n",
              "  </tbody>\n",
              "</table>\n",
              "</div>\n",
              "      <button class=\"colab-df-convert\" onclick=\"convertToInteractive('df-4de9cc39-9b2f-4219-bf41-e521bd0be054')\"\n",
              "              title=\"Convert this dataframe to an interactive table.\"\n",
              "              style=\"display:none;\">\n",
              "        \n",
              "  <svg xmlns=\"http://www.w3.org/2000/svg\" height=\"24px\"viewBox=\"0 0 24 24\"\n",
              "       width=\"24px\">\n",
              "    <path d=\"M0 0h24v24H0V0z\" fill=\"none\"/>\n",
              "    <path d=\"M18.56 5.44l.94 2.06.94-2.06 2.06-.94-2.06-.94-.94-2.06-.94 2.06-2.06.94zm-11 1L8.5 8.5l.94-2.06 2.06-.94-2.06-.94L8.5 2.5l-.94 2.06-2.06.94zm10 10l.94 2.06.94-2.06 2.06-.94-2.06-.94-.94-2.06-.94 2.06-2.06.94z\"/><path d=\"M17.41 7.96l-1.37-1.37c-.4-.4-.92-.59-1.43-.59-.52 0-1.04.2-1.43.59L10.3 9.45l-7.72 7.72c-.78.78-.78 2.05 0 2.83L4 21.41c.39.39.9.59 1.41.59.51 0 1.02-.2 1.41-.59l7.78-7.78 2.81-2.81c.8-.78.8-2.07 0-2.86zM5.41 20L4 18.59l7.72-7.72 1.47 1.35L5.41 20z\"/>\n",
              "  </svg>\n",
              "      </button>\n",
              "      \n",
              "  <style>\n",
              "    .colab-df-container {\n",
              "      display:flex;\n",
              "      flex-wrap:wrap;\n",
              "      gap: 12px;\n",
              "    }\n",
              "\n",
              "    .colab-df-convert {\n",
              "      background-color: #E8F0FE;\n",
              "      border: none;\n",
              "      border-radius: 50%;\n",
              "      cursor: pointer;\n",
              "      display: none;\n",
              "      fill: #1967D2;\n",
              "      height: 32px;\n",
              "      padding: 0 0 0 0;\n",
              "      width: 32px;\n",
              "    }\n",
              "\n",
              "    .colab-df-convert:hover {\n",
              "      background-color: #E2EBFA;\n",
              "      box-shadow: 0px 1px 2px rgba(60, 64, 67, 0.3), 0px 1px 3px 1px rgba(60, 64, 67, 0.15);\n",
              "      fill: #174EA6;\n",
              "    }\n",
              "\n",
              "    [theme=dark] .colab-df-convert {\n",
              "      background-color: #3B4455;\n",
              "      fill: #D2E3FC;\n",
              "    }\n",
              "\n",
              "    [theme=dark] .colab-df-convert:hover {\n",
              "      background-color: #434B5C;\n",
              "      box-shadow: 0px 1px 3px 1px rgba(0, 0, 0, 0.15);\n",
              "      filter: drop-shadow(0px 1px 2px rgba(0, 0, 0, 0.3));\n",
              "      fill: #FFFFFF;\n",
              "    }\n",
              "  </style>\n",
              "\n",
              "      <script>\n",
              "        const buttonEl =\n",
              "          document.querySelector('#df-4de9cc39-9b2f-4219-bf41-e521bd0be054 button.colab-df-convert');\n",
              "        buttonEl.style.display =\n",
              "          google.colab.kernel.accessAllowed ? 'block' : 'none';\n",
              "\n",
              "        async function convertToInteractive(key) {\n",
              "          const element = document.querySelector('#df-4de9cc39-9b2f-4219-bf41-e521bd0be054');\n",
              "          const dataTable =\n",
              "            await google.colab.kernel.invokeFunction('convertToInteractive',\n",
              "                                                     [key], {});\n",
              "          if (!dataTable) return;\n",
              "\n",
              "          const docLinkHtml = 'Like what you see? Visit the ' +\n",
              "            '<a target=\"_blank\" href=https://colab.research.google.com/notebooks/data_table.ipynb>data table notebook</a>'\n",
              "            + ' to learn more about interactive tables.';\n",
              "          element.innerHTML = '';\n",
              "          dataTable['output_type'] = 'display_data';\n",
              "          await google.colab.output.renderOutput(dataTable, element);\n",
              "          const docLink = document.createElement('div');\n",
              "          docLink.innerHTML = docLinkHtml;\n",
              "          element.appendChild(docLink);\n",
              "        }\n",
              "      </script>\n",
              "    </div>\n",
              "  </div>\n",
              "  "
            ]
          },
          "metadata": {},
          "execution_count": 4
        }
      ]
    },
    {
      "cell_type": "markdown",
      "source": [
        "Function untuk memprediksi input dari user. Hasil yang akan keluar dari prediksi input user adalah positif atau negatif."
      ],
      "metadata": {
        "id": "PGo2ypfHlZ1d"
      }
    },
    {
      "cell_type": "code",
      "source": [
        "def prediksi_ulasan(ulasan):\n",
        "  result = classifier.predict(vectorizer.transform([ulasan]))\n",
        "  # jika angka 1, maka positif. lainnya negatif\n",
        "  if result == 1:\n",
        "    return \"Positif\"\n",
        "  else:\n",
        "    return \"Negatif\""
      ],
      "metadata": {
        "id": "W_vEd7EclVTE"
      },
      "execution_count": null,
      "outputs": []
    },
    {
      "cell_type": "markdown",
      "source": [
        "Memprediksi ulasan bebas berupa input dari user tentang aplikasi Gojek. Model akan memprediksi ulasan tersebut masuk ke sentimen negatif atau positif."
      ],
      "metadata": {
        "id": "b5LHoy7FlqdA"
      }
    },
    {
      "cell_type": "code",
      "source": [
        "prediksi_ulasan('aplikasinya bagus, diskonnya banyak.')"
      ],
      "metadata": {
        "id": "9xvZsf-flmLV",
        "colab": {
          "base_uri": "https://localhost:8080/",
          "height": 36
        },
        "outputId": "7bb3dc01-fe44-42aa-be9e-8c3b17ac5a10"
      },
      "execution_count": null,
      "outputs": [
        {
          "output_type": "execute_result",
          "data": {
            "text/plain": [
              "'Positif'"
            ],
            "application/vnd.google.colaboratory.intrinsic+json": {
              "type": "string"
            }
          },
          "metadata": {},
          "execution_count": 25
        }
      ]
    },
    {
      "cell_type": "code",
      "source": [
        "prediksi_ulasan('lag parah banget aplikasinya. mohon diperbaiki.')"
      ],
      "metadata": {
        "id": "XS1K6GEs3ddR",
        "outputId": "4158ca8c-467f-40a2-9939-4c7fc76ceb52",
        "colab": {
          "base_uri": "https://localhost:8080/",
          "height": 36
        }
      },
      "execution_count": null,
      "outputs": [
        {
          "output_type": "execute_result",
          "data": {
            "text/plain": [
              "'Negatif'"
            ],
            "application/vnd.google.colaboratory.intrinsic+json": {
              "type": "string"
            }
          },
          "metadata": {},
          "execution_count": 26
        }
      ]
    }
  ]
}